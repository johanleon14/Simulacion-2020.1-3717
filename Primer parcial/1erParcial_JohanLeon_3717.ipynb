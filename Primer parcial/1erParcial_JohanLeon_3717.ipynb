{
  "nbformat": 4,
  "nbformat_minor": 0,
  "metadata": {
    "colab": {
      "name": "1erParcial_JohanLeon_3717.ipynb",
      "provenance": [],
      "collapsed_sections": []
    },
    "kernelspec": {
      "name": "python3",
      "display_name": "Python 3"
    }
  },
  "cells": [
    {
      "cell_type": "markdown",
      "metadata": {
        "id": "8ZmASnzE4maa",
        "colab_type": "text"
      },
      "source": [
        "## 1er Parcial - Simulación Computacional 2020-I"
      ]
    },
    {
      "cell_type": "markdown",
      "metadata": {
        "id": "X2I3jvxgG9yt",
        "colab_type": "text"
      },
      "source": [
        "# **Librerias y metodos**\n"
      ]
    },
    {
      "cell_type": "code",
      "metadata": {
        "id": "M8OSp1q6HUyI",
        "colab_type": "code",
        "colab": {}
      },
      "source": [
        "!pip install simpy"
      ],
      "execution_count": null,
      "outputs": []
    },
    {
      "cell_type": "code",
      "metadata": {
        "id": "wj2pMLtBHZJe",
        "colab_type": "code",
        "colab": {}
      },
      "source": [
        "import numpy as np\n",
        "import pandas as pd\n",
        "import time\n",
        "from datetime import datetime\n",
        "import random\n",
        "import matplotlib.pyplot as plt\n",
        "import math\n",
        "from scipy import stats\n",
        "\n",
        "def genran(a,b,m,xant):\n",
        "    xsig = (a*xant + b) % m\n",
        "    usig = xsig / m\n",
        "    return [xsig,usig]\n",
        "\n",
        "def genranN(a,b,m,x0,N):\n",
        "    xant = x0\n",
        "    I=[]\n",
        "    X=[]\n",
        "    U=[]\n",
        "    for t in range(1, N+1):\n",
        "        [xi,ui] = genran(a,b,m,xant)\n",
        "        I.append(t)\n",
        "        X.append(xi)\n",
        "        U.append(ui)\n",
        "        xant = xi\n",
        "    return [I,X,U]\n",
        "\n",
        "def showValues(I,U):\n",
        "    print(\"i\\tUi\")\n",
        "    for t in range(0, len(U)):\n",
        "        print(\"%d\\t%2.4f\" % (I[t],U[t]), sep=' ', end='\\n')\n",
        "\n",
        "def tamanoCiclo(values):\n",
        "    tam = 1\n",
        "    max_len = int(len(values) / 2)\n",
        "    for ii in range(2, max_len):\n",
        "        if (values[0:ii] == values[ii:2*ii]).any() :\n",
        "            return ii\n",
        "    return tam\n",
        "\n",
        "\n",
        "def genvardiscret(U,X,P):\n",
        "    V = []\n",
        "    for t in range(0, len(U)):\n",
        "        for t2 in range(0, len(X)):\n",
        "            if U[t]<P[t2]:\n",
        "                V.append(X[t2])\n",
        "                break\n",
        "    return V\n",
        "\n",
        "def genpoisson(U,L):\n",
        "    i=0\n",
        "    px=np.exp(-L)\n",
        "    Fx=px\n",
        "\n",
        "    while True:\n",
        "      if U < Fx:\n",
        "        Xi = i\n",
        "        return Xi\n",
        "        break\n",
        "      px = (L*px)/(i+1)\n",
        "      Fx = Fx + px\n",
        "      i = i + 1\n",
        "\n",
        "def genpoissonN(Ui,L,N):\n",
        "  X=[]\n",
        "  for i in range(0,len(Ui)):\n",
        "      xi = genpoisson(Ui[i],L)\n",
        "      X.append(xi)\n",
        "  return X\n",
        "\n",
        "def genbinomial(U,n,p):\n",
        "  c=p/(1-p)\n",
        "  i=0\n",
        "  px=np.power(1-p,n)\n",
        "  Fx=px\n",
        "\n",
        "  while True:\n",
        "    if U < Fx:\n",
        "      Xi = i\n",
        "      return Xi\n",
        "      break\n",
        "    px=(c*(n-i)/(i+1))*px \n",
        "    Fx = Fx + px\n",
        "    i = i + 1\n",
        "\n",
        "def genbinomialN(Ui,n,p,N):\n",
        "  X=[]\n",
        "  for i in range(0,len(Ui)):\n",
        "      xi = genbinomial(Ui[i],n,p)\n",
        "      X.append(xi)\n",
        "  return X\n",
        "\n"
      ],
      "execution_count": 4,
      "outputs": []
    },
    {
      "cell_type": "markdown",
      "metadata": {
        "id": "SzFIvgaS_4qX",
        "colab_type": "text"
      },
      "source": [
        "## 1.  (1.0 punto)\n",
        "Para los siguientes generadores congruenciales mixtos encuentre $u_1,...,u_{100}$ y el tamaño del ciclo (si lo tiene)\n",
        "\n",
        "**a)** $x_0=93, x_n = (14x_{n-1}+9) \\mod 127$\n"
      ]
    },
    {
      "cell_type": "code",
      "metadata": {
        "id": "Iwv2_dxlA4au",
        "colab_type": "code",
        "colab": {}
      },
      "source": [
        "N = 100\n",
        "\n",
        "a = 14.0\n",
        "b = 9.0\n",
        "m = 127.0\n",
        "x0 = 93.0\n",
        "\n",
        "[I,X,U] = genranN(a,b,m,x0,N)\n",
        "showValues(I,U)\n",
        "TamanoCiclo = tamanoCiclo((np.array(X)).astype(int))\n",
        "if TamanoCiclo !=1:\n",
        "  print(\"El tamaño del ciclo es: \"+str(TamanoCiclo))\n",
        "else:\n",
        "  print(\"No se encuentra ciclo\")"
      ],
      "execution_count": null,
      "outputs": []
    },
    {
      "cell_type": "markdown",
      "metadata": {
        "id": "YJ9uMhemA48M",
        "colab_type": "text"
      },
      "source": [
        "**b)** $x_0=123, x_n = (191x_{n-1}) \\mod 3173$"
      ]
    },
    {
      "cell_type": "code",
      "metadata": {
        "id": "MQQMwNdRA9hX",
        "colab_type": "code",
        "colab": {}
      },
      "source": [
        "N = 100\n",
        "\n",
        "a = 191.0\n",
        "b = 0.0\n",
        "m = 3173.0\n",
        "x0 = 123.0\n",
        "\n",
        "[I,X,U] = genranN(a,b,m,x0,N)\n",
        "showValues(I,U)\n",
        "TamanoCiclo = tamanoCiclo((np.array(X)).astype(int))\n",
        "if TamanoCiclo !=1:\n",
        "  print(\"El tamaño del ciclo es: \"+str(TamanoCiclo))\n",
        "else:\n",
        "  print(\"No se encuentra ciclo\")"
      ],
      "execution_count": null,
      "outputs": []
    },
    {
      "cell_type": "markdown",
      "metadata": {
        "id": "t7BKvhEPA91k",
        "colab_type": "text"
      },
      "source": [
        "**c)** $x_0=7, x_n = (5x_{n-1}+3) \\mod 33$"
      ]
    },
    {
      "cell_type": "code",
      "metadata": {
        "id": "j4tMo8eFA-fo",
        "colab_type": "code",
        "colab": {}
      },
      "source": [
        "N = 100\n",
        "\n",
        "a = 5.0\n",
        "b = 3.0\n",
        "m = 33.0\n",
        "x0 = 7.0\n",
        "\n",
        "[I,X,U] = genranN(a,b,m,x0,N)\n",
        "showValues(I,U)\n",
        "TamanoCiclo = tamanoCiclo((np.array(X)).astype(int))\n",
        "if TamanoCiclo !=1:\n",
        "  print(\"El tamaño del ciclo es: \"+str(TamanoCiclo))\n",
        "else:\n",
        "  print(\"No se encuentra ciclo\")"
      ],
      "execution_count": null,
      "outputs": []
    },
    {
      "cell_type": "markdown",
      "metadata": {
        "id": "EmgsDNW85jnA",
        "colab_type": "text"
      },
      "source": [
        "## 2.  (1.0 punto)\n",
        "Calcule el estadístico $\\chi^2$ para los siguientes generadores congruenciales mixtos a partir de la generación de $1000$ los valores pseudoaleatorios uniformes de $U(0,1)$: $u_1,...,u_{1000}$, para un $k=101$.\n",
        "\n",
        "**a)** $x_0=1791, x_n = (65539x_{n-1}) \\mod {2^{31}}$\n",
        "\n"
      ]
    },
    {
      "cell_type": "code",
      "metadata": {
        "id": "htzC40o3LRzU",
        "colab_type": "code",
        "colab": {}
      },
      "source": [
        "N = 1000\n",
        "\n",
        "a = 65539.0\n",
        "b = 0.0\n",
        "m = math.pow(2, 31)\n",
        "x0 = 1791.0\n",
        "\n",
        "[I,X,U] = genranN(a,b,m,x0,N)\n",
        "\n",
        "k=101\n",
        "count, bins, ignored = plt.hist(U, k)\n",
        "plt.plot(bins, np.ones_like(bins)*(N/k), linewidth=2, color='r')\n",
        "plt.show()\n",
        "\n",
        "chiest=0\n",
        "for i in range(0,k):\n",
        "    chiest = chiest + ((count[i]-(N/k))**2)/(N/k)\n",
        "print(\"Estadístico chi2 = \"+str(chiest))\n",
        "\n",
        "chisq, pvalue = stats.chisquare(count, f_exp=np.ones_like(count)*(N/k))\n",
        "print(chisq)"
      ],
      "execution_count": null,
      "outputs": []
    },
    {
      "cell_type": "markdown",
      "metadata": {
        "id": "hFkasb9JThNF",
        "colab_type": "text"
      },
      "source": [
        "**b)** $x_0=6773, x_n = (75x_{n-1}) \\mod {2^{16} + 1}$"
      ]
    },
    {
      "cell_type": "code",
      "metadata": {
        "id": "1aT02saFTiwK",
        "colab_type": "code",
        "colab": {}
      },
      "source": [
        "N = 1000\n",
        "\n",
        "a = 75.0\n",
        "b = 0.0\n",
        "m = math.pow(2, 16)+1\n",
        "x0 = 6773.0\n",
        "\n",
        "[I,X,U] = genranN(a,b,m,x0,N)\n",
        "\n",
        "k=101\n",
        "count, bins, ignored = plt.hist(U, k)\n",
        "plt.plot(bins, np.ones_like(bins)*(N/k), linewidth=2, color='r')\n",
        "plt.show()\n",
        "\n",
        "chiest=0\n",
        "for i in range(0,k):\n",
        "    chiest = chiest + ((count[i]-(N/k))**2)/(N/k)\n",
        "print(\"Estadístico chi2 = \"+str(chiest))\n",
        "\n",
        "chisq, pvalue = stats.chisquare(count, f_exp=np.ones_like(count)*(N/k))\n",
        "print(chisq)"
      ],
      "execution_count": null,
      "outputs": []
    },
    {
      "cell_type": "markdown",
      "metadata": {
        "id": "Wxzu0PlKTjE8",
        "colab_type": "text"
      },
      "source": [
        "**c)** $x_0=179, x_n = (5x_{n-1}+7) \\mod 200$"
      ]
    },
    {
      "cell_type": "code",
      "metadata": {
        "id": "MUDytp0cTlBa",
        "colab_type": "code",
        "colab": {}
      },
      "source": [
        "N = 1000\n",
        "\n",
        "a = 5.0\n",
        "b = 7.0\n",
        "m = 200\n",
        "x0 = 179.0\n",
        "\n",
        "[I,X,U] = genranN(a,b,m,x0,N)\n",
        "\n",
        "k=101\n",
        "count, bins, ignored = plt.hist(U, k)\n",
        "plt.plot(bins, np.ones_like(bins)*(N/k), linewidth=2, color='r')\n",
        "plt.show()\n",
        "\n",
        "chiest=0\n",
        "for i in range(0,k):\n",
        "    chiest = chiest + ((count[i]-(N/k))**2)/(N/k)\n",
        "print(\"Estadístico chi2 = \"+str(chiest))\n",
        "\n",
        "chisq, pvalue = stats.chisquare(count, f_exp=np.ones_like(count)*(N/k))\n",
        "print(chisq)"
      ],
      "execution_count": null,
      "outputs": []
    },
    {
      "cell_type": "markdown",
      "metadata": {
        "id": "TCRSM7MW6dM-",
        "colab_type": "text"
      },
      "source": [
        "## 3.  (1.0 punto)\n",
        "Implemente un sistema de cola simple de clientes atendidos por un cajero de un banco, similar al ejemplo de simulación Ad Hoc del Taller 0 o el punto 10 del Taller 1, generando las variables aleatorias discretas tanto del número de minutos entre las llegadas de un cliente y otro al banco ($X$), así como del numero de minutos que le toma al cajero atender un cliente ($Y$) para un total de **200 clientes**, donde: <br><br>\n",
        "$X$ es una distribución de Poisson con $\\lambda = 10$<br>\n",
        "$Y$ es una distribución de probabilidad discreta así:<br>\n",
        "$Y = [1, 2, 3, 4, 5, 6, 7, 8, 9, 10, 11, 12, 13, 14, 15]$<br>\n",
        "$p(Y) = [0.01, 0.02, 0.02, 0.02, 0.02, 0.025, 0.03, 0.05, 0.08, 0.09, 0.11, 0.15, 0.2, 0.125, 0.05]$<br><br>\n",
        "\n",
        "Calcular:<br>\n",
        "**a)** Tiempo promedio en el sistema<br>\n",
        "**b)** Porcentaje de tiempo libre del servidor<br>\n",
        "**c)** Promedio de tiempo de espera por cliente<br>\n",
        "**d)** Fracción de clientes que estuvieron esperando<br>\n",
        "**e)** Promedio de tiempo de espera de los clientes que esperaron en cola<br>"
      ]
    },
    {
      "cell_type": "code",
      "metadata": {
        "id": "mFEGorxcQaP5",
        "colab_type": "code",
        "colab": {}
      },
      "source": [
        "## GENERAR X\n",
        "N = 200\n",
        "L = 10\n",
        "\n",
        "a = 65539.0\n",
        "b = 0.0\n",
        "m = (2**31)\n",
        "x0 = int(round(time.time()*1000))\n",
        "\n",
        "[IIi,XXi,Ui] = genranN(a,b,m,x0,N)\n",
        "Pi = genpoissonN(Ui,L,N)\n",
        "Ki = np.unique(Pi)\n",
        "\n",
        "Ki = np.array(Ki)\n",
        "\n",
        "Ti = Pi\n",
        "\n",
        "## GENERAR Y\n",
        "\n",
        "N = 200\n",
        "\n",
        "a = 539.0\n",
        "b = 5.0\n",
        "m = (2**31)\n",
        "\n",
        "\n",
        "x0 = int(round(time.time() * 1000))\n",
        "[Iy,Xy,Uy] = genranN(a,b,m,x0,N)\n",
        "\n",
        "Y = [1,2,3,4,5,6,7,8,9,10,11,12,13,14,15]\n",
        "p=[0.01,0.02,0.02,0.02,0.02,0.025,0.03,0.05,0.08,0.09,0.11,0.15,0.2,0.125,0.05]\n",
        "P = np.cumsum(p)\n",
        "\n",
        "V = genvardiscret(Uy,Y,P)\n",
        "print(\"Yi=\", V)\n",
        "Ts=V\n",
        "\n",
        "### SISTEMA FIFO\n",
        "def llegadas(Ti):\n",
        "  Tllegada = 0\n",
        "  Tin = []\n",
        "  for t in range(0,len(Ti)):\n",
        "    Tllegada = Tllegada + Ti[t]\n",
        "    Tin.append(Tllegada)\n",
        "  return Tin\n",
        "\n",
        "Ti = llegadas(Ti)\n",
        "\n",
        "def buscar(s):\n",
        "  menor = s[0]\n",
        "  pos = 0\n",
        "  for t in range(1,len(s)):\n",
        "    if s[t] < menor :\n",
        "      menor = s[t]\n",
        "      pos = t\n",
        "        \n",
        "  return pos\n",
        "\n",
        "def systemFIFO(Ti,Ts,serv):\n",
        "  \n",
        "  Out = []\n",
        "  s = np.zeros(serv) \n",
        "  cli = 0\n",
        "  TinSystem = 0 \n",
        "  Idle = 0 \n",
        "  TQue = 0     \n",
        "  CQue = 0\n",
        "  Ttotal = 0\n",
        "  while cli != len(Ti):\n",
        "\n",
        "    b = buscar(s)\n",
        "    if Ti[cli] >= s[b]:  \n",
        "      Out.append(Ti[cli]+Ts[cli])\n",
        "      Ttotal = Ttotal + Out[cli]\n",
        "      TinSystem = TinSystem + (Out[cli]-Ti[cli])\n",
        "      if s[b] == 0:\n",
        "        Idle = Ti[cli]\n",
        "      else:\n",
        "        Idle = Idle + (Out[cli-1]-Ti[cli])\n",
        "      s[b] = Ti[cli]+Ts[cli]\n",
        "      cli = cli + 1\n",
        "    else:  #cola\n",
        "      Out.append(Ts[cli]+s[b])\n",
        "      Ttotal = Ttotal + Out[cli]\n",
        "      TinSystem = TinSystem + (Out[cli]-Ti[cli])\n",
        "      CQue = CQue + 1\n",
        "      TQue  =TQue + (s[b]-Ti[cli])\n",
        "      s[b] = Ts[cli]+s[b]\n",
        "      cli = cli + 1\n",
        "    \n",
        "       \n",
        "  return [Out,TinSystem,Idle,TQue,CQue,Ttotal]\n",
        "\n",
        "def showValues(O,Ti,Ts):\n",
        "    print(\"i\\tTiempo de llegada\\tTiempo de servicio\\tTiempos de salida\\t\")\n",
        "    for t in range(0, len(O)):\n",
        "        print(\"%d\\t\\t%d\\t\\t\\t%d\\t\\t\\t%d\\t\" % (t+1,Ti[t],Ts[t],O[t]), sep=' ', end='\\n')\n",
        "\n",
        "serv = 1\n",
        "[Out,TinSystem,Idle,TQue,CQue,Ttotal] = systemFIFO(Ti,Ts,serv)\n",
        "showValues(Out,Ti,Ts)\n",
        "\n",
        "\n",
        "print(\"\\n\")\n",
        "print(\"Average time in system: %2.4f\\t\" % (TinSystem/N),sep=' ', end='\\n')\n",
        "print(\"Percent Idle time: %2.4f\\t\" % ((Idle/Ttotal)*100),sep=' ', end='\\n')\n",
        "print(\"Average waiting time per customer: %2.4f\\t\" % (TQue/N),sep=' ', end='\\n')\n",
        "print(\"Frraction having to wait: %2.4f\\t\" % (CQue/N),sep=' ', end='\\n')\n",
        "print(\"Average waiting time of those who waited: %2.4f\\t\" % (TQue/CQue),sep=' ', end='\\n')\n"
      ],
      "execution_count": null,
      "outputs": []
    },
    {
      "cell_type": "markdown",
      "metadata": {
        "id": "aVbse_tu6SBN",
        "colab_type": "text"
      },
      "source": [
        "## 4.  (1.0 punto)\n",
        "Tomando como base la implementación de un sistema de linea de espera con un servidor (<a href=\"https://colab.research.google.com/drive/1Ff8QcrO8vFyNp3BGU7JHHk9mWH9NO8HL?usp=sharing\">Notebook</a>), con las mismas semillas y generadores congruenciales, determine las medidas de desempeño si la variable aleatoria $Y$ correspondiente al tiempo de servicio se comporta como una distribución binomial con parámetros $n=20$ y $p=0.5$ "
      ]
    },
    {
      "cell_type": "code",
      "metadata": {
        "id": "JQRNZV5qBDke",
        "colab_type": "code",
        "colab": {}
      },
      "source": [
        "Xant1 = 434287492\n",
        "Xant2 = 514324426\n",
        "\n",
        "M = 99999.0\n",
        "T = 40.0\n",
        "at = []\n",
        "an = []\n",
        "LLt = []\n",
        "St = []"
      ],
      "execution_count": 20,
      "outputs": []
    },
    {
      "cell_type": "code",
      "metadata": {
        "id": "ST6S85mzVw70",
        "colab_type": "code",
        "colab": {}
      },
      "source": [
        "def gencongru1(): \n",
        "    global Xant1\n",
        "    a = 134775813\n",
        "    c = 1\n",
        "    m = 2**32\n",
        "    Xnext = (a * Xant1 + c) % m\n",
        "    Xant1 = Xnext\n",
        "    U = Xnext / m\n",
        "    return U\n",
        "\n",
        "def gencongru2():\n",
        "    global Xant2\n",
        "    a = 1140671485\n",
        "    c = 12820163\n",
        "    m = 2**24\n",
        "    Xnext = (a * Xant2 + c) % m\n",
        "    Xant2 = Xnext\n",
        "    U = Xnext / m\n",
        "    return U\n",
        "\n",
        "def GenerarX():\n",
        "    vlambda = 3\n",
        "    U = gencongru1()\n",
        "    X = -(math.log(1-U))/float(vlambda)\n",
        "    return X\n",
        "\n",
        "def GenerarY():\n",
        "  U = gencongru2()\n",
        "  n=20\n",
        "  p=0.5\n",
        "  c=p/(1-p)\n",
        "  i=0\n",
        "  px=np.power(1-p,n)\n",
        "  Fx=px\n",
        "\n",
        "  while True:\n",
        "    if U < Fx:\n",
        "      Xi = i\n",
        "      return Xi\n",
        "      break\n",
        "    px=(c*(n-i)/(i+1))*px \n",
        "    Fx = Fx + px\n",
        "    i = i + 1\n",
        "\n",
        "def Llegada(tsuc):\n",
        "    global n, NLL, NS, t, S, Serv, LL, at, an\n",
        "    t=tsuc\n",
        "    n = n + 1\n",
        "    LLt.append(t)\n",
        "    at.append(t)\n",
        "    an.append(n)\n",
        "    \n",
        "    NLL = NLL + 1\n",
        "    LL.append(t)\n",
        "    \n",
        "    X = GenerarX()\n",
        "    \n",
        "    if (t+X) < T:\n",
        "        TSuc['tLL'] = t + X\n",
        "    if n==1:\n",
        "        Y = GenerarY()\n",
        "        TSuc['tS'] = t + Y\n",
        "        #Serv[NS]=Y \n",
        "        Serv.append(Y)\n",
        "        \n",
        "def Servidor(tsuc):\n",
        "    global n, NLL, NS, t, S, Serv, LL, at, an\n",
        "    t = tsuc\n",
        "    n = n - 1\n",
        "    \n",
        "    St.append(t)\n",
        "    at.append(t)\n",
        "    an.append(n)\n",
        "    \n",
        "    NS = NS + 1\n",
        "    S.append(t)\n",
        "\n",
        "    if n>0:\n",
        "        Y = GenerarY()\n",
        "        TSuc['tS'] = t + Y\n",
        "        Serv.append(Y) "
      ],
      "execution_count": 21,
      "outputs": []
    },
    {
      "cell_type": "code",
      "metadata": {
        "id": "KNOymkEGVygI",
        "colab_type": "code",
        "colab": {}
      },
      "source": [
        "t = tsuc = NLL = NS = n = 0\n",
        "\n",
        "at.append(t)\n",
        "an.append(n)\n",
        "\n",
        "TSuc = {\"tLL\":M, \"tS\":M}\n",
        "\n",
        "LL = []\n",
        "S = []\n",
        "Serv = []\n",
        "LL.append(0.0)\n",
        "S.append(0.0)\n",
        "Serv.append(0.0)\n",
        "\n",
        "X = GenerarX()\n",
        "\n",
        "if X > T:\n",
        "    Tp = t_med_sistema = t_med_cola = 0.0\n",
        "    exit\n",
        "else:\n",
        "    Llegada(X)\n",
        "    while((TSuc['tLL'] != M)|(TSuc['tS']!=M)):\n",
        "        if TSuc['tLL'] < TSuc['tS']:\n",
        "            tsuc = TSuc['tLL']\n",
        "            TSuc['tLL'] = M\n",
        "            Llegada(tsuc)\n",
        "            \n",
        "        if TSuc['tS'] < TSuc['tLL']:\n",
        "            tsuc = TSuc['tS']\n",
        "            TSuc['tS'] = M\n",
        "            Servidor(tsuc)\n",
        "\n",
        "    Tp = max(0,t-T)\n",
        "    acumulo1 = acumulo2 = 0.0\n",
        "    ind = 0\n",
        "    \n",
        "    while ind < NLL:\n",
        "        acumulo1 = acumulo1 + S[ind] - LL[ind]\n",
        "        acumulo2 = acumulo2 + S[ind] - LL[ind] - Serv[ind]\n",
        "        ind = ind + 1\n",
        "    t_med_sistema = acumulo1/NLL\n",
        "    t_med_cola = acumulo2/NLL\n",
        "\n",
        "    exit"
      ],
      "execution_count": 22,
      "outputs": []
    },
    {
      "cell_type": "code",
      "metadata": {
        "id": "p5jybPfvV27b",
        "colab_type": "code",
        "colab": {}
      },
      "source": [
        "at = np.array(at)\n",
        "an = np.array(an)\n",
        "\n",
        "LLt = np.array(LLt)\n",
        "St = np.array(St)\n",
        "\n",
        "tmp = np.zeros((len(LLt)))+1\n",
        "\n",
        "plt.plot(LLt, tmp, 'r.')\n",
        "plt.xlim(0, max(at))\n",
        "plt.show()\n",
        "\n",
        "tmp = np.zeros((len(St)))+1\n",
        "\n",
        "plt.plot(St, tmp, 'b.')\n",
        "plt.xlim(0, max(at))\n",
        "plt.show()\n",
        "\n",
        "plt.plot(at,an)\n",
        "plt.xlabel('tiempo (t)')\n",
        "plt.ylabel('numero de clientes en el sistema (n)')\n",
        "plt.show()\n",
        "\n",
        "print(\"Tiempo medio de los clientes en el sistema: \",t_med_sistema)\n",
        "print(\"Tiempo medio de los clientes en la cola: \",t_med_cola)\n",
        "print(\"Tiempo transcurrido desde T hasta que el último cliente abandona el sistema: \",Tp)\n",
        "print(\"Número máximo de clientes en el sistema: \",max(an))\n",
        "print(\"Total de clientes que pasaron por el sistema: \",NLL)"
      ],
      "execution_count": null,
      "outputs": []
    },
    {
      "cell_type": "markdown",
      "metadata": {
        "id": "D6i0hqZH6NMW",
        "colab_type": "text"
      },
      "source": [
        "## 5.  (1.0 punto)\n",
        "Usando el ejemplo de SimPy de abajo de una conferencia que incluye buffet (refrigerio) con un tiempo máximo de simulación de 4 horas (i.e. 240 minutos) modifique el código para:\n",
        "\n",
        "**a)** Implementar las medidas de desempeño de hambre promedio y conocimiento promedio.<br>\n",
        "**b)** Comparar y analizar los siguientes escenarios a partir de las medidas de desempeño implementadas indicando cual escenario es mejor:\n",
        "\n",
        "> 1. Duración de la charla 15 minutos, 4 charlas por sesión, 15 minutos de break, 2 puestos de buffet y 3 minutos por turno para comer en el buffet\n",
        "> 2. Duración de la charla 20 minutos, 4 charlas por sesión, 10 minutos de break, 2 puestos de buffet y 3 minutos por turno para comer en el buffet\n",
        "> 3. Duración de la charla 15 minutos, 4 charlas por sesión, 20 minutos de break, 1 puestos de buffet y 3 minutos por turno para comer en el buffet\n",
        "\n",
        "**c)** Implemente una configuración que garantice que el conocimiento promedio adquirido por los asistentes sea mayor de 3 y el hambre promedio sea menor a 2."
      ]
    },
    {
      "cell_type": "code",
      "metadata": {
        "id": "cnWJq7SO6j9e",
        "colab_type": "code",
        "colab": {}
      },
      "source": [
        "\n",
        "from random import randint\n",
        "import simpy "
      ],
      "execution_count": 33,
      "outputs": []
    },
    {
      "cell_type": "code",
      "metadata": {
        "id": "w1yIh5KG6l2B",
        "colab_type": "code",
        "colab": {}
      },
      "source": [
        "TALKS_PER_SESSION = 3\n",
        "TALK_LENGTH = 30\n",
        "BREAK_LENGTH = 15\n",
        "DURATION_EAT = 3\n",
        "BUFFET_SLOTS = 2"
      ],
      "execution_count": 34,
      "outputs": []
    },
    {
      "cell_type": "code",
      "metadata": {
        "id": "dsNLHwHW6nvh",
        "colab_type": "code",
        "colab": {}
      },
      "source": [
        "Hambre = []\n",
        "Conocimiento = []\n",
        "def attendee(env, name, buffet, knowledge=0, hunger=0):\n",
        "  global Hambre\n",
        "  while True:\n",
        "    # Visit talks\n",
        "    for i in range(TALKS_PER_SESSION):\n",
        "      knowledge = knowledge + randint(0, 3) / (1 + hunger)\n",
        "      hunger = hunger + randint(1, 4)\n",
        "      yield env.timeout(TALK_LENGTH)\n",
        "    \n",
        "    Hambre.append(hunger)\n",
        "    Conocimiento.append(knowledge)\n",
        "    print('El asistente %s terminó las charlas con un conocimiento %.2f y hambre '\n",
        "    '%.2f.' % (name, knowledge, hunger))\n",
        "\n",
        "    # Go to buffet\n",
        "    start = env.now\n",
        "    with buffet.request() as req:\n",
        "      yield req | env.timeout(BREAK_LENGTH - DURATION_EAT)\n",
        "      time_left = BREAK_LENGTH - (env.now - start)\n",
        "      \n",
        "      if req.triggered:\n",
        "        food = min(randint(3, 12), time_left) # Less time -> less food\n",
        "        yield env.timeout(DURATION_EAT)\n",
        "        hunger -= min(food, hunger)\n",
        "        time_left -= DURATION_EAT\n",
        "        print('El asistente %s terminó de comer con hambre %.2f' %\n",
        "              (name, hunger))\n",
        "      else:\n",
        "        hunger += 1 # Penalty for only taking a look at all the food.\n",
        "        print('El asistente %s no llegó al buffet :( , el hambre es ahora '\n",
        "        'at %.2f.' % (name, hunger))\n",
        "    yield env.timeout(time_left)"
      ],
      "execution_count": 35,
      "outputs": []
    },
    {
      "cell_type": "code",
      "metadata": {
        "id": "wQZQGTMn6pG2",
        "colab_type": "code",
        "colab": {}
      },
      "source": [
        "env = simpy.Environment()\n",
        "buffet = simpy.Resource(env, capacity=BUFFET_SLOTS)\n",
        "for i in range(5):\n",
        "  env.process(attendee(env, i, buffet))\n",
        "env.run(until=220)\n",
        "\n",
        "def promedio(H):\n",
        "  acum=0\n",
        "  for n in range(len(H)):\n",
        "    acum = acum+H[n]\n",
        "  return acum/(len(H))\n",
        "\n",
        "hambrePromedio = promedio(Hambre)\n",
        "conocimientoPromedio = promedio(Conocimiento)\n",
        "\n",
        "print(\"Hambre promedio: \",hambrePromedio)\n",
        "print(\"Conocimiento promedio: \",conocimientoPromedio)"
      ],
      "execution_count": null,
      "outputs": []
    },
    {
      "cell_type": "markdown",
      "metadata": {
        "id": "mOumwUIEjhNN",
        "colab_type": "text"
      },
      "source": [
        "**PUNTO B**"
      ]
    },
    {
      "cell_type": "code",
      "metadata": {
        "id": "BvKutiz0dacb",
        "colab_type": "code",
        "colab": {}
      },
      "source": [
        "TALKS_PER_SESSION = 4\n",
        "TALK_LENGTH = 15\n",
        "BREAK_LENGTH = 15\n",
        "DURATION_EAT = 3\n",
        "BUFFET_SLOTS = 2\n",
        "\n",
        "Hambre = []\n",
        "Conocimiento = []\n",
        "\n",
        "env = simpy.Environment()\n",
        "buffet = simpy.Resource(env, capacity=BUFFET_SLOTS)\n",
        "for i in range(5):\n",
        "  env.process(attendee(env, i, buffet))\n",
        "env.run(until=220)\n",
        "\n",
        "hambrePromedio1 = promedio(Hambre)\n",
        "conocimientoPromedio1 = promedio(Conocimiento)\n",
        "\n"
      ],
      "execution_count": null,
      "outputs": []
    },
    {
      "cell_type": "code",
      "metadata": {
        "id": "C--0iiRed9yT",
        "colab_type": "code",
        "colab": {}
      },
      "source": [
        "TALKS_PER_SESSION = 4\n",
        "TALK_LENGTH = 20\n",
        "BREAK_LENGTH = 10\n",
        "DURATION_EAT = 3\n",
        "BUFFET_SLOTS = 2\n",
        "\n",
        "Hambre = []\n",
        "Conocimiento = []\n",
        "\n",
        "env = simpy.Environment()\n",
        "buffet = simpy.Resource(env, capacity=BUFFET_SLOTS)\n",
        "for i in range(5):\n",
        "  env.process(attendee(env, i, buffet))\n",
        "env.run(until=220)\n",
        "\n",
        "hambrePromedio2 = promedio(Hambre)\n",
        "conocimientoPromedio2 = promedio(Conocimiento)\n"
      ],
      "execution_count": null,
      "outputs": []
    },
    {
      "cell_type": "code",
      "metadata": {
        "id": "PbFPeijKeEmx",
        "colab_type": "code",
        "colab": {}
      },
      "source": [
        "TALKS_PER_SESSION = 4\n",
        "TALK_LENGTH = 15\n",
        "BREAK_LENGTH = 20\n",
        "DURATION_EAT = 3\n",
        "BUFFET_SLOTS = 1\n",
        "\n",
        "Hambre = []\n",
        "Conocimiento = []\n",
        "\n",
        "env = simpy.Environment()\n",
        "buffet = simpy.Resource(env, capacity=BUFFET_SLOTS)\n",
        "for i in range(5):\n",
        "  env.process(attendee(env, i, buffet))\n",
        "env.run(until=220)\n",
        "\n",
        "hambrePromedio3 = promedio(Hambre)\n",
        "conocimientoPromedio3 = promedio(Conocimiento)\n",
        "Division1 = hambrePromedio1/conocimientoPromedio1\n",
        "Division2 = hambrePromedio2/conocimientoPromedio2\n",
        "Division3 = hambrePromedio3/conocimientoPromedio3\n",
        "print(\"Simulacion N \\t Hambre \\t Conocimiento\\t Hambres respecto conocimiento\")\n",
        "print(\"\\t%d\\t%2.4f\\t\\t%2.4f\\t\\t\\t%2.4f\" % (1,hambrePromedio1,conocimientoPromedio1, Division1), sep=' ', end='\\n')\n",
        "print(\"\\t%d\\t%2.4f\\t\\t%2.4f\\t\\t\\t%2.4f\" % (2,hambrePromedio2,conocimientoPromedio2, Division2), sep=' ', end='\\n')\n",
        "print(\"\\t%d\\t%2.4f\\t\\t%2.4f\\t\\t\\t%2.4f\" % (3,hambrePromedio3,conocimientoPromedio3, Division3), sep=' ', end='\\n')\n",
        "\n",
        "print(\"En la mayoria de los casos el mejor escenario es el de la simulacion 1 debido a que la razon entre el hambre y el conocimiento es menor\")"
      ],
      "execution_count": null,
      "outputs": []
    },
    {
      "cell_type": "markdown",
      "metadata": {
        "id": "41Ri8iiDenTq",
        "colab_type": "text"
      },
      "source": [
        "**Punto C**"
      ]
    },
    {
      "cell_type": "code",
      "metadata": {
        "id": "4IVSzUUaeqco",
        "colab_type": "code",
        "colab": {}
      },
      "source": [
        "TALKS_PER_SESSION = 1\n",
        "TALK_LENGTH = 1\n",
        "BREAK_LENGTH = 20\n",
        "DURATION_EAT = 20\n",
        "BUFFET_SLOTS = 5\n",
        "\n",
        "Hambre = []\n",
        "Conocimiento = []\n",
        "\n",
        "env = simpy.Environment()\n",
        "buffet = simpy.Resource(env, capacity=BUFFET_SLOTS)\n",
        "for i in range(5):\n",
        "  env.process(attendee(env, i, buffet))\n",
        "env.run(until=220)\n",
        "\n",
        "hambreTengo = promedio(Hambre)\n",
        "conocimientoProm = promedio(Conocimiento)\n",
        "\n",
        "print(\"Hambre promedio: \",hambreTengo)\n",
        "print(\"Conocimiento promedio: \",conocimientoProm)\n",
        "print(\"\")\n",
        "print(\"No existe una configuracion que haga que el hambre sea menor a 2\")"
      ],
      "execution_count": null,
      "outputs": []
    }
  ]
}